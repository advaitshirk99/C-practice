{
 "cells": [
  {
   "cell_type": "code",
   "execution_count": 1,
   "metadata": {},
   "outputs": [],
   "source": [
    "#Function for AND gate using McCulloch Pitt's neuron\n",
    "def AND_gate(x1,x2,w1,w2):\n",
    "    y=[]\n",
    "    threshold=2\n",
    "    for i in range(4):\n",
    "        z_in=x1[i]*w1+x2[i]*w2\n",
    "        if z_in<threshold:\n",
    "            y.append(0)\n",
    "        else:\n",
    "            y.append(1)\n",
    "    return print(y)"
   ]
  },
  {
   "cell_type": "code",
   "execution_count": 2,
   "metadata": {},
   "outputs": [],
   "source": [
    "#Inputs to the gate as a list\n",
    "x1=[0,0,1,1]\n",
    "x2=[0,1,0,1]\n",
    "w1=w2=1"
   ]
  },
  {
   "cell_type": "code",
   "execution_count": 3,
   "metadata": {},
   "outputs": [
    {
     "data": {
      "text/plain": [
       "[0, 0, 0, 1]"
      ]
     },
     "execution_count": 3,
     "metadata": {},
     "output_type": "execute_result"
    }
   ],
   "source": [
    "#Calling the function with the inputs\n",
    "AND_gate(x1,x2,w1,w2)"
   ]
  },
  {
   "cell_type": "code",
   "execution_count": 4,
   "metadata": {},
   "outputs": [],
   "source": [
    "#Function for OR gate using McCulloch Pitt's neuron\n",
    "def OR_gate(x1,x2,w1,w2):\n",
    "    y=[]\n",
    "    threshold=3\n",
    "    for i in range(4):    #4 loops for 4 input combinations\n",
    "        z_in=x1[i]*w1+x2[i]*w2\n",
    "        if z_in<threshold:\n",
    "            y.append(0)\n",
    "        else:\n",
    "            y.append(1)\n",
    "    return print(y)"
   ]
  },
  {
   "cell_type": "code",
   "execution_count": 5,
   "metadata": {},
   "outputs": [],
   "source": [
    "#Inputs to the gate as a list\n",
    "x1=[0,0,1,1]\n",
    "x2=[0,1,0,1]\n",
    "w1=w2=3"
   ]
  },
  {
   "cell_type": "code",
   "execution_count": 6,
   "metadata": {},
   "outputs": [
    {
     "name": "stdout",
     "output_type": "stream",
     "text": [
      "[0, 1, 1, 1]\n"
     ]
    }
   ],
   "source": [
    "#Calling the OR function with inputs\n",
    "OR_gate(x1,x2,w1,w2)"
   ]
  },
  {
   "cell_type": "code",
   "execution_count": 19,
   "metadata": {},
   "outputs": [],
   "source": [
    "#Function for NAND gate using McCulloch Pitt's neuron\n",
    "def NAND_gate(x1,x2,w1,w2):\n",
    "    y=[]\n",
    "    threshold=4\n",
    "    for i in range(4):    #4 loops for 4 input combinations\n",
    "        z_in=x1[i]*w1+x2[i]*w2\n",
    "        if z_in<threshold:\n",
    "            y.append(1)\n",
    "        else:\n",
    "            y.append(0)\n",
    "    return print(y)"
   ]
  },
  {
   "cell_type": "code",
   "execution_count": 20,
   "metadata": {},
   "outputs": [],
   "source": [
    "#Inputs to the gate as a list\n",
    "x1=[0,0,1,1]\n",
    "x2=[0,1,0,1]\n",
    "w1=w2=2"
   ]
  },
  {
   "cell_type": "code",
   "execution_count": 22,
   "metadata": {},
   "outputs": [
    {
     "name": "stdout",
     "output_type": "stream",
     "text": [
      "[1, 1, 1, 0]\n"
     ]
    }
   ],
   "source": [
    "#Calling the NAND function with inputs\n",
    "NAND_gate(x2,x1,w1,w2)"
   ]
  }
 ],
 "metadata": {
  "kernelspec": {
   "display_name": "Python 3",
   "language": "python",
   "name": "python3"
  },
  "language_info": {
   "codemirror_mode": {
    "name": "ipython",
    "version": 3
   },
   "file_extension": ".py",
   "mimetype": "text/x-python",
   "name": "python",
   "nbconvert_exporter": "python",
   "pygments_lexer": "ipython3",
   "version": "3.8.6"
  }
 },
 "nbformat": 4,
 "nbformat_minor": 4
}
